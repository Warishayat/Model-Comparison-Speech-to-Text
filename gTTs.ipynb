{
  "nbformat": 4,
  "nbformat_minor": 0,
  "metadata": {
    "colab": {
      "provenance": [],
      "gpuType": "T4"
    },
    "kernelspec": {
      "name": "python3",
      "display_name": "Python 3"
    },
    "language_info": {
      "name": "python"
    },
    "accelerator": "GPU"
  },
  "cells": [
    {
      "cell_type": "code",
      "execution_count": 5,
      "metadata": {
        "colab": {
          "base_uri": "https://localhost:8080/",
          "height": 442
        },
        "id": "gHztJwTH5Kzm",
        "outputId": "b1682684-dcb7-4211-c701-7188d7b291da"
      },
      "outputs": [
        {
          "output_type": "stream",
          "name": "stdout",
          "text": [
            "Collecting gTTS\n",
            "  Downloading gTTS-2.5.4-py3-none-any.whl.metadata (4.1 kB)\n",
            "Requirement already satisfied: requests<3,>=2.27 in /usr/local/lib/python3.11/dist-packages (from gTTS) (2.32.3)\n",
            "Collecting click<8.2,>=7.1 (from gTTS)\n",
            "  Downloading click-8.1.8-py3-none-any.whl.metadata (2.3 kB)\n",
            "Requirement already satisfied: charset-normalizer<4,>=2 in /usr/local/lib/python3.11/dist-packages (from requests<3,>=2.27->gTTS) (3.4.2)\n",
            "Requirement already satisfied: idna<4,>=2.5 in /usr/local/lib/python3.11/dist-packages (from requests<3,>=2.27->gTTS) (3.10)\n",
            "Requirement already satisfied: urllib3<3,>=1.21.1 in /usr/local/lib/python3.11/dist-packages (from requests<3,>=2.27->gTTS) (2.4.0)\n",
            "Requirement already satisfied: certifi>=2017.4.17 in /usr/local/lib/python3.11/dist-packages (from requests<3,>=2.27->gTTS) (2025.6.15)\n",
            "Downloading gTTS-2.5.4-py3-none-any.whl (29 kB)\n",
            "Downloading click-8.1.8-py3-none-any.whl (98 kB)\n",
            "\u001b[?25l   \u001b[90m━━━━━━━━━━━━━━━━━━━━━━━━━━━━━━━━━━━━━━━━\u001b[0m \u001b[32m0.0/98.2 kB\u001b[0m \u001b[31m?\u001b[0m eta \u001b[36m-:--:--\u001b[0m\r\u001b[2K   \u001b[90m━━━━━━━━━━━━━━━━━━━━━━━━━━━━━━━━━━━━━━━━\u001b[0m \u001b[32m98.2/98.2 kB\u001b[0m \u001b[31m9.5 MB/s\u001b[0m eta \u001b[36m0:00:00\u001b[0m\n",
            "\u001b[?25hInstalling collected packages: click, gTTS\n",
            "  Attempting uninstall: click\n",
            "    Found existing installation: click 8.2.1\n",
            "    Uninstalling click-8.2.1:\n",
            "      Successfully uninstalled click-8.2.1\n",
            "Successfully installed click-8.1.8 gTTS-2.5.4\n"
          ]
        },
        {
          "output_type": "display_data",
          "data": {
            "application/vnd.colab-display-data+json": {
              "pip_warning": {
                "packages": [
                  "click"
                ]
              },
              "id": "529656f38e97435ca73d3f394e2cbc4e"
            }
          },
          "metadata": {}
        }
      ],
      "source": [
        "pip install gTTS\n"
      ]
    },
    {
      "cell_type": "code",
      "source": [
        "from gtts import gTTS\n",
        "import time\n",
        "import os\n",
        "import wave\n",
        "from pydub import AudioSegment\n",
        "\n",
        "# Text and filename\n",
        "text = \"\"\"The Groq API speech endpoint provides fast text-to-speech (TTS), enabling you to convert text to spoken audio in seconds with our available TTS models.\n",
        "With support for 23 voices, 19 in English and 4 in Arabic, you can instantly create life-like audio content for customer support agents, characters for game development, and more.\n",
        "\"\"\"\n",
        "output_file = \"gtts_output.mp3\"\n",
        "wav_file = \"gtts_output.wav\"\n",
        "\n",
        "# Measure latency\n",
        "start_time = time.time()\n",
        "\n",
        "tts = gTTS(text=text, lang='en')\n",
        "tts.save(output_file)\n",
        "\n",
        "latency = time.time() - start_time\n",
        "\n",
        "# Convert to WAV to calculate duration\n",
        "sound = AudioSegment.from_mp3(output_file)\n",
        "sound.export(wav_file, format=\"wav\")\n",
        "\n",
        "# Get audio duration\n",
        "with wave.open(wav_file, 'rb') as wf:\n",
        "    frames = wf.getnframes()\n",
        "    rate = wf.getframerate()\n",
        "    duration = frames / float(rate)\n",
        "\n",
        "# Calculate Real-Time Factor\n",
        "rtf = latency / duration\n",
        "\n",
        "# Output\n",
        "print(f\"✅ Text: {text}\")\n",
        "print(f\"🔊 MP3 Saved as: {output_file}\")\n",
        "print(f\"🎧 WAV Saved as: {wav_file}\")\n",
        "print(f\"⏱️ Latency: {latency:.2f} seconds\")\n",
        "print(f\"🎧 Duration: {duration:.2f} seconds\")\n",
        "print(f\"⚡ Real-Time Factor (RTF): {rtf:.2f}\")\n"
      ],
      "metadata": {
        "colab": {
          "base_uri": "https://localhost:8080/"
        },
        "id": "Y-noH2WM565b",
        "outputId": "01de7559-1372-42ea-fc9e-c699caf2fd81"
      },
      "execution_count": 1,
      "outputs": [
        {
          "output_type": "stream",
          "name": "stdout",
          "text": [
            "✅ Text: The Groq API speech endpoint provides fast text-to-speech (TTS), enabling you to convert text to spoken audio in seconds with our available TTS models.\n",
            "With support for 23 voices, 19 in English and 4 in Arabic, you can instantly create life-like audio content for customer support agents, characters for game development, and more.\n",
            "\n",
            "🔊 MP3 Saved as: gtts_output.mp3\n",
            "🎧 WAV Saved as: gtts_output.wav\n",
            "⏱️ Latency: 2.35 seconds\n",
            "🎧 Duration: 28.68 seconds\n",
            "⚡ Real-Time Factor (RTF): 0.08\n"
          ]
        }
      ]
    },
    {
      "cell_type": "code",
      "source": [],
      "metadata": {
        "id": "P-O8bg1LA0FH"
      },
      "execution_count": null,
      "outputs": []
    }
  ]
}
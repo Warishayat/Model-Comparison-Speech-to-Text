{
  "nbformat": 4,
  "nbformat_minor": 0,
  "metadata": {
    "colab": {
      "provenance": []
    },
    "kernelspec": {
      "name": "python3",
      "display_name": "Python 3"
    },
    "language_info": {
      "name": "python"
    }
  },
  "cells": [
    {
      "cell_type": "code",
      "execution_count": 9,
      "metadata": {
        "colab": {
          "base_uri": "https://localhost:8080/",
          "height": 0
        },
        "id": "zfP6CypOZ3BI",
        "outputId": "7314d834-958b-449c-fc98-7e1c676e93d3"
      },
      "outputs": [
        {
          "output_type": "stream",
          "name": "stdout",
          "text": [
            "Requirement already satisfied: groq in /usr/local/lib/python3.11/dist-packages (0.29.0)\n",
            "Requirement already satisfied: pydub in /usr/local/lib/python3.11/dist-packages (0.25.1)\n",
            "Requirement already satisfied: anyio<5,>=3.5.0 in /usr/local/lib/python3.11/dist-packages (from groq) (4.9.0)\n",
            "Requirement already satisfied: distro<2,>=1.7.0 in /usr/local/lib/python3.11/dist-packages (from groq) (1.9.0)\n",
            "Requirement already satisfied: httpx<1,>=0.23.0 in /usr/local/lib/python3.11/dist-packages (from groq) (0.28.1)\n",
            "Requirement already satisfied: pydantic<3,>=1.9.0 in /usr/local/lib/python3.11/dist-packages (from groq) (2.11.7)\n",
            "Requirement already satisfied: sniffio in /usr/local/lib/python3.11/dist-packages (from groq) (1.3.1)\n",
            "Requirement already satisfied: typing-extensions<5,>=4.10 in /usr/local/lib/python3.11/dist-packages (from groq) (4.14.0)\n",
            "Requirement already satisfied: idna>=2.8 in /usr/local/lib/python3.11/dist-packages (from anyio<5,>=3.5.0->groq) (3.10)\n",
            "Requirement already satisfied: certifi in /usr/local/lib/python3.11/dist-packages (from httpx<1,>=0.23.0->groq) (2025.6.15)\n",
            "Requirement already satisfied: httpcore==1.* in /usr/local/lib/python3.11/dist-packages (from httpx<1,>=0.23.0->groq) (1.0.9)\n",
            "Requirement already satisfied: h11>=0.16 in /usr/local/lib/python3.11/dist-packages (from httpcore==1.*->httpx<1,>=0.23.0->groq) (0.16.0)\n",
            "Requirement already satisfied: annotated-types>=0.6.0 in /usr/local/lib/python3.11/dist-packages (from pydantic<3,>=1.9.0->groq) (0.7.0)\n",
            "Requirement already satisfied: pydantic-core==2.33.2 in /usr/local/lib/python3.11/dist-packages (from pydantic<3,>=1.9.0->groq) (2.33.2)\n",
            "Requirement already satisfied: typing-inspection>=0.4.0 in /usr/local/lib/python3.11/dist-packages (from pydantic<3,>=1.9.0->groq) (0.4.1)\n"
          ]
        }
      ],
      "source": [
        "!pip install groq pydub"
      ]
    },
    {
      "cell_type": "code",
      "source": [
        "from google.colab import userdata\n",
        "import time\n",
        "from groq import Groq\n",
        "import os\n",
        "import wave\n",
        "import pydub\n",
        "\n",
        "# api\n",
        "groq=userdata.get('groq_api_key')\n",
        "client = Groq(api_key=groq)\n",
        "\n",
        "#path\n",
        "filename = \"/content/audio.mp3\"\n",
        "audio = pydub.AudioSegment.from_file(filename)\n",
        "duration_seconds = len(audio) / 1000\n",
        "\n",
        "# check latencyy\n",
        "start_time = time.time()\n",
        "\n",
        "with open(filename, \"rb\") as f:\n",
        "    transcription = client.audio.transcriptions.create(\n",
        "        file=f,\n",
        "        model=\"whisper-large-v3\",\n",
        "        response_format=\"verbose_json\"\n",
        "    )\n",
        "\n",
        "end_time = time.time()\n",
        "latency = end_time - start_time\n",
        "\n",
        "# calculate latency\n",
        "rtf = latency / duration_seconds\n",
        "\n",
        "#final-reslt\n",
        "print(f\"🕒 Latency: {latency:.2f} seconds\")\n",
        "print(f\"🎧 Audio Duration: {duration_seconds:.2f} seconds\")\n",
        "print(f\"⚡ Real-Time Factor (RTF): {rtf:.2f}\")\n",
        "print(f\"📄 Transcription: {transcription.text}\")"
      ],
      "metadata": {
        "colab": {
          "base_uri": "https://localhost:8080/",
          "height": 0
        },
        "id": "6qjq1Z5IaBCm",
        "outputId": "e646e93b-f72f-401e-87dd-f2606875225d"
      },
      "execution_count": 11,
      "outputs": [
        {
          "output_type": "stream",
          "name": "stdout",
          "text": [
            "🕒 Latency: 0.51 seconds\n",
            "🎧 Audio Duration: 15.24 seconds\n",
            "⚡ Real-Time Factor (RTF): 0.03\n",
            "📄 Transcription:  To check the latency score of your Groke Whisper Large V3 model transcription, or any other speech-to-text model, you can measure the inference duration and compare it to the length of the audio to compute the real-time factor, RTF.\n"
          ]
        }
      ]
    },
    {
      "cell_type": "code",
      "source": [],
      "metadata": {
        "id": "sdumNBdUcg_S"
      },
      "execution_count": null,
      "outputs": []
    }
  ]
}